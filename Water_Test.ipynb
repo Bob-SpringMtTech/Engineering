{
 "cells": [
  {
   "cell_type": "code",
   "execution_count": 5,
   "metadata": {},
   "outputs": [
    {
     "name": "stdout",
     "output_type": "stream",
     "text": [
      "WaterIAPWS97\n",
      "temp :337.8821862011852 °F\n",
      "press:114.696 psi\n",
      "quality:0.0\n",
      "sp vol:0.0011141793952335643 m^3/kg\n",
      "density:8000.0 kg/m^3\n",
      "sp enthalpy:718.9197293095727 kJ/Kg\n",
      "sp int energy:718.0386350377257 kJ/Kg\n",
      "sp entropy:2.041279580171662 kJ/kg·°K\n",
      "sp heat Cp:4.369278073445758 kJ/kg·°K\n",
      "sp heat Cv:3.4385401144651278 kJ/kg·°K\n",
      "sp sound:1418.4328577417045 mps\n"
     ]
    }
   ],
   "source": [
    "import numpy as np\n",
    "from Library import unit_of_measure as um\n",
    "from Library import NIST330 as un\n",
    "from Library import Water as h2o\n",
    "\n",
    "uMPa = un.Pressure.MPa\n",
    "udegK = un.Temperature.degK\n",
    "\n",
    "ukJ_kgK = un.SpHeatCap.kJ_kgK\n",
    "ukJ_kg = un.SpEnergy.kJ_kg\n",
    "ukg_m3 = un.Density.kg_m3\n",
    "um3_kg = un.SpVolume.m3_kg\n",
    "um_s = un.Velocity.mps\n",
    "\n",
    "udegF = un.Temperature.degF\n",
    "upsi = un.Pressure.psi\n",
    "t = 338.0 * udegF\n",
    "p = 114.696 * upsi\n",
    "\n",
    "water = h2o.WaterIAPWS97()\n",
    "fp = water.SetSaturation(h2o.SatType.SatPress).SetQuality(0.0).SetCond(press=p).Eval()\n",
    "rho_h2o = fp.SpVol.power(-1)\n",
    "rho_ss = 8000.0 * ukg_m3\n",
    "\n",
    "print('WaterIAPWS97')\n",
    "print(f'temp :{water.Properties.Temp(udegF)}')\n",
    "print(f'press:{water.Properties.Press(upsi)}')\n",
    "print(f'quality:{water.Properties.Quality}')\n",
    "print(f'sp vol:{fp.SpVol(um3_kg)}')\n",
    "print(f'density:{rho_ss(ukg_m3)}')\n",
    "print(f'sp enthalpy:{fp.SpEnthalpy(ukJ_kg)}')\n",
    "print(f'sp int energy:{fp.SpIntEnergy(ukJ_kg)}')\n",
    "print(f'sp entropy:{fp.SpEntropy(ukJ_kgK)}')\n",
    "print(f'sp heat Cp:{fp.SpHeatCp(ukJ_kgK)}')\n",
    "print(f'sp heat Cv:{fp.SpHeatCv(ukJ_kgK)}')\t\t\n",
    "print(f'sp sound:{fp.AcousticVel(um_s)}')\n"
   ]
  }
 ],
 "metadata": {
  "kernelspec": {
   "display_name": "Python 3.9.7 ('base')",
   "language": "python",
   "name": "python3"
  },
  "language_info": {
   "codemirror_mode": {
    "name": "ipython",
    "version": 3
   },
   "file_extension": ".py",
   "mimetype": "text/x-python",
   "name": "python",
   "nbconvert_exporter": "python",
   "pygments_lexer": "ipython3",
   "version": "3.9.7"
  },
  "orig_nbformat": 4,
  "vscode": {
   "interpreter": {
    "hash": "ad2bdc8ecc057115af97d19610ffacc2b4e99fae6737bb82f5d7fb13d2f2c186"
   }
  }
 },
 "nbformat": 4,
 "nbformat_minor": 2
}
